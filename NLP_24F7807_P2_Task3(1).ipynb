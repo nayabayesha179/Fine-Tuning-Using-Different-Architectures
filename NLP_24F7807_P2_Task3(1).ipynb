{
  "nbformat": 4,
  "nbformat_minor": 0,
  "metadata": {
    "colab": {
      "provenance": [],
      "gpuType": "T4"
    },
    "kernelspec": {
      "name": "python3",
      "display_name": "Python 3"
    },
    "language_info": {
      "name": "python"
    },
    "accelerator": "GPU",
    "widgets": {
      "application/vnd.jupyter.widget-state+json": {
        "f9aab7b3e5474bc3aced3ddd6c62b52f": {
          "model_module": "@jupyter-widgets/controls",
          "model_name": "HBoxModel",
          "model_module_version": "1.5.0",
          "state": {
            "_dom_classes": [],
            "_model_module": "@jupyter-widgets/controls",
            "_model_module_version": "1.5.0",
            "_model_name": "HBoxModel",
            "_view_count": null,
            "_view_module": "@jupyter-widgets/controls",
            "_view_module_version": "1.5.0",
            "_view_name": "HBoxView",
            "box_style": "",
            "children": [
              "IPY_MODEL_3e7260633f6745708501d9df8234c663",
              "IPY_MODEL_bc803b6b36d94d0198312017a8b307a3",
              "IPY_MODEL_a270063de15a4fad98fe1d87a13c4f49"
            ],
            "layout": "IPY_MODEL_552939e1434f442f919c95507604ae1a"
          }
        },
        "3e7260633f6745708501d9df8234c663": {
          "model_module": "@jupyter-widgets/controls",
          "model_name": "HTMLModel",
          "model_module_version": "1.5.0",
          "state": {
            "_dom_classes": [],
            "_model_module": "@jupyter-widgets/controls",
            "_model_module_version": "1.5.0",
            "_model_name": "HTMLModel",
            "_view_count": null,
            "_view_module": "@jupyter-widgets/controls",
            "_view_module_version": "1.5.0",
            "_view_name": "HTMLView",
            "description": "",
            "description_tooltip": null,
            "layout": "IPY_MODEL_067b830bc2ab4c98a21c57870f6e15da",
            "placeholder": "​",
            "style": "IPY_MODEL_79c5ec90dcda4334b657f6a2baef4b0a",
            "value": "Map: 100%"
          }
        },
        "bc803b6b36d94d0198312017a8b307a3": {
          "model_module": "@jupyter-widgets/controls",
          "model_name": "FloatProgressModel",
          "model_module_version": "1.5.0",
          "state": {
            "_dom_classes": [],
            "_model_module": "@jupyter-widgets/controls",
            "_model_module_version": "1.5.0",
            "_model_name": "FloatProgressModel",
            "_view_count": null,
            "_view_module": "@jupyter-widgets/controls",
            "_view_module_version": "1.5.0",
            "_view_name": "ProgressView",
            "bar_style": "success",
            "description": "",
            "description_tooltip": null,
            "layout": "IPY_MODEL_52cb460bcc4e418fa607e6392e49cee1",
            "max": 150,
            "min": 0,
            "orientation": "horizontal",
            "style": "IPY_MODEL_2961f651b2e1404b8cf6305ff4142f94",
            "value": 150
          }
        },
        "a270063de15a4fad98fe1d87a13c4f49": {
          "model_module": "@jupyter-widgets/controls",
          "model_name": "HTMLModel",
          "model_module_version": "1.5.0",
          "state": {
            "_dom_classes": [],
            "_model_module": "@jupyter-widgets/controls",
            "_model_module_version": "1.5.0",
            "_model_name": "HTMLModel",
            "_view_count": null,
            "_view_module": "@jupyter-widgets/controls",
            "_view_module_version": "1.5.0",
            "_view_name": "HTMLView",
            "description": "",
            "description_tooltip": null,
            "layout": "IPY_MODEL_dffa91aa48504316bf7b00def7739b35",
            "placeholder": "​",
            "style": "IPY_MODEL_e4ca30c865654ad392e846f312c3a3ea",
            "value": " 150/150 [00:00&lt;00:00, 202.14 examples/s]"
          }
        },
        "552939e1434f442f919c95507604ae1a": {
          "model_module": "@jupyter-widgets/base",
          "model_name": "LayoutModel",
          "model_module_version": "1.2.0",
          "state": {
            "_model_module": "@jupyter-widgets/base",
            "_model_module_version": "1.2.0",
            "_model_name": "LayoutModel",
            "_view_count": null,
            "_view_module": "@jupyter-widgets/base",
            "_view_module_version": "1.2.0",
            "_view_name": "LayoutView",
            "align_content": null,
            "align_items": null,
            "align_self": null,
            "border": null,
            "bottom": null,
            "display": null,
            "flex": null,
            "flex_flow": null,
            "grid_area": null,
            "grid_auto_columns": null,
            "grid_auto_flow": null,
            "grid_auto_rows": null,
            "grid_column": null,
            "grid_gap": null,
            "grid_row": null,
            "grid_template_areas": null,
            "grid_template_columns": null,
            "grid_template_rows": null,
            "height": null,
            "justify_content": null,
            "justify_items": null,
            "left": null,
            "margin": null,
            "max_height": null,
            "max_width": null,
            "min_height": null,
            "min_width": null,
            "object_fit": null,
            "object_position": null,
            "order": null,
            "overflow": null,
            "overflow_x": null,
            "overflow_y": null,
            "padding": null,
            "right": null,
            "top": null,
            "visibility": null,
            "width": null
          }
        },
        "067b830bc2ab4c98a21c57870f6e15da": {
          "model_module": "@jupyter-widgets/base",
          "model_name": "LayoutModel",
          "model_module_version": "1.2.0",
          "state": {
            "_model_module": "@jupyter-widgets/base",
            "_model_module_version": "1.2.0",
            "_model_name": "LayoutModel",
            "_view_count": null,
            "_view_module": "@jupyter-widgets/base",
            "_view_module_version": "1.2.0",
            "_view_name": "LayoutView",
            "align_content": null,
            "align_items": null,
            "align_self": null,
            "border": null,
            "bottom": null,
            "display": null,
            "flex": null,
            "flex_flow": null,
            "grid_area": null,
            "grid_auto_columns": null,
            "grid_auto_flow": null,
            "grid_auto_rows": null,
            "grid_column": null,
            "grid_gap": null,
            "grid_row": null,
            "grid_template_areas": null,
            "grid_template_columns": null,
            "grid_template_rows": null,
            "height": null,
            "justify_content": null,
            "justify_items": null,
            "left": null,
            "margin": null,
            "max_height": null,
            "max_width": null,
            "min_height": null,
            "min_width": null,
            "object_fit": null,
            "object_position": null,
            "order": null,
            "overflow": null,
            "overflow_x": null,
            "overflow_y": null,
            "padding": null,
            "right": null,
            "top": null,
            "visibility": null,
            "width": null
          }
        },
        "79c5ec90dcda4334b657f6a2baef4b0a": {
          "model_module": "@jupyter-widgets/controls",
          "model_name": "DescriptionStyleModel",
          "model_module_version": "1.5.0",
          "state": {
            "_model_module": "@jupyter-widgets/controls",
            "_model_module_version": "1.5.0",
            "_model_name": "DescriptionStyleModel",
            "_view_count": null,
            "_view_module": "@jupyter-widgets/base",
            "_view_module_version": "1.2.0",
            "_view_name": "StyleView",
            "description_width": ""
          }
        },
        "52cb460bcc4e418fa607e6392e49cee1": {
          "model_module": "@jupyter-widgets/base",
          "model_name": "LayoutModel",
          "model_module_version": "1.2.0",
          "state": {
            "_model_module": "@jupyter-widgets/base",
            "_model_module_version": "1.2.0",
            "_model_name": "LayoutModel",
            "_view_count": null,
            "_view_module": "@jupyter-widgets/base",
            "_view_module_version": "1.2.0",
            "_view_name": "LayoutView",
            "align_content": null,
            "align_items": null,
            "align_self": null,
            "border": null,
            "bottom": null,
            "display": null,
            "flex": null,
            "flex_flow": null,
            "grid_area": null,
            "grid_auto_columns": null,
            "grid_auto_flow": null,
            "grid_auto_rows": null,
            "grid_column": null,
            "grid_gap": null,
            "grid_row": null,
            "grid_template_areas": null,
            "grid_template_columns": null,
            "grid_template_rows": null,
            "height": null,
            "justify_content": null,
            "justify_items": null,
            "left": null,
            "margin": null,
            "max_height": null,
            "max_width": null,
            "min_height": null,
            "min_width": null,
            "object_fit": null,
            "object_position": null,
            "order": null,
            "overflow": null,
            "overflow_x": null,
            "overflow_y": null,
            "padding": null,
            "right": null,
            "top": null,
            "visibility": null,
            "width": null
          }
        },
        "2961f651b2e1404b8cf6305ff4142f94": {
          "model_module": "@jupyter-widgets/controls",
          "model_name": "ProgressStyleModel",
          "model_module_version": "1.5.0",
          "state": {
            "_model_module": "@jupyter-widgets/controls",
            "_model_module_version": "1.5.0",
            "_model_name": "ProgressStyleModel",
            "_view_count": null,
            "_view_module": "@jupyter-widgets/base",
            "_view_module_version": "1.2.0",
            "_view_name": "StyleView",
            "bar_color": null,
            "description_width": ""
          }
        },
        "dffa91aa48504316bf7b00def7739b35": {
          "model_module": "@jupyter-widgets/base",
          "model_name": "LayoutModel",
          "model_module_version": "1.2.0",
          "state": {
            "_model_module": "@jupyter-widgets/base",
            "_model_module_version": "1.2.0",
            "_model_name": "LayoutModel",
            "_view_count": null,
            "_view_module": "@jupyter-widgets/base",
            "_view_module_version": "1.2.0",
            "_view_name": "LayoutView",
            "align_content": null,
            "align_items": null,
            "align_self": null,
            "border": null,
            "bottom": null,
            "display": null,
            "flex": null,
            "flex_flow": null,
            "grid_area": null,
            "grid_auto_columns": null,
            "grid_auto_flow": null,
            "grid_auto_rows": null,
            "grid_column": null,
            "grid_gap": null,
            "grid_row": null,
            "grid_template_areas": null,
            "grid_template_columns": null,
            "grid_template_rows": null,
            "height": null,
            "justify_content": null,
            "justify_items": null,
            "left": null,
            "margin": null,
            "max_height": null,
            "max_width": null,
            "min_height": null,
            "min_width": null,
            "object_fit": null,
            "object_position": null,
            "order": null,
            "overflow": null,
            "overflow_x": null,
            "overflow_y": null,
            "padding": null,
            "right": null,
            "top": null,
            "visibility": null,
            "width": null
          }
        },
        "e4ca30c865654ad392e846f312c3a3ea": {
          "model_module": "@jupyter-widgets/controls",
          "model_name": "DescriptionStyleModel",
          "model_module_version": "1.5.0",
          "state": {
            "_model_module": "@jupyter-widgets/controls",
            "_model_module_version": "1.5.0",
            "_model_name": "DescriptionStyleModel",
            "_view_count": null,
            "_view_module": "@jupyter-widgets/base",
            "_view_module_version": "1.2.0",
            "_view_name": "StyleView",
            "description_width": ""
          }
        },
        "3d702c58314944418e0530e9d31f51e9": {
          "model_module": "@jupyter-widgets/controls",
          "model_name": "HBoxModel",
          "model_module_version": "1.5.0",
          "state": {
            "_dom_classes": [],
            "_model_module": "@jupyter-widgets/controls",
            "_model_module_version": "1.5.0",
            "_model_name": "HBoxModel",
            "_view_count": null,
            "_view_module": "@jupyter-widgets/controls",
            "_view_module_version": "1.5.0",
            "_view_name": "HBoxView",
            "box_style": "",
            "children": [
              "IPY_MODEL_7b4a6b3fc04f40eba780cfd66b52c25d",
              "IPY_MODEL_2ec2ba60c7804e4db59f06115591007d",
              "IPY_MODEL_e6bedb6c37d246d093f35a9854903ea8"
            ],
            "layout": "IPY_MODEL_e5ded47f9fd24c5aa9db8e65c6230c08"
          }
        },
        "7b4a6b3fc04f40eba780cfd66b52c25d": {
          "model_module": "@jupyter-widgets/controls",
          "model_name": "HTMLModel",
          "model_module_version": "1.5.0",
          "state": {
            "_dom_classes": [],
            "_model_module": "@jupyter-widgets/controls",
            "_model_module_version": "1.5.0",
            "_model_name": "HTMLModel",
            "_view_count": null,
            "_view_module": "@jupyter-widgets/controls",
            "_view_module_version": "1.5.0",
            "_view_name": "HTMLView",
            "description": "",
            "description_tooltip": null,
            "layout": "IPY_MODEL_a318d0b0abb84c689c14a4ca4c002b49",
            "placeholder": "​",
            "style": "IPY_MODEL_d4323d747f19460984da0f2bc7f373d0",
            "value": "Map: 100%"
          }
        },
        "2ec2ba60c7804e4db59f06115591007d": {
          "model_module": "@jupyter-widgets/controls",
          "model_name": "FloatProgressModel",
          "model_module_version": "1.5.0",
          "state": {
            "_dom_classes": [],
            "_model_module": "@jupyter-widgets/controls",
            "_model_module_version": "1.5.0",
            "_model_name": "FloatProgressModel",
            "_view_count": null,
            "_view_module": "@jupyter-widgets/controls",
            "_view_module_version": "1.5.0",
            "_view_name": "ProgressView",
            "bar_style": "success",
            "description": "",
            "description_tooltip": null,
            "layout": "IPY_MODEL_90c453c5ffa046c28a2f8fefd8afe8f6",
            "max": 50,
            "min": 0,
            "orientation": "horizontal",
            "style": "IPY_MODEL_f6d8209401e844358615916bd31c4452",
            "value": 50
          }
        },
        "e6bedb6c37d246d093f35a9854903ea8": {
          "model_module": "@jupyter-widgets/controls",
          "model_name": "HTMLModel",
          "model_module_version": "1.5.0",
          "state": {
            "_dom_classes": [],
            "_model_module": "@jupyter-widgets/controls",
            "_model_module_version": "1.5.0",
            "_model_name": "HTMLModel",
            "_view_count": null,
            "_view_module": "@jupyter-widgets/controls",
            "_view_module_version": "1.5.0",
            "_view_name": "HTMLView",
            "description": "",
            "description_tooltip": null,
            "layout": "IPY_MODEL_3277e030095e4a4cbb67731fed798271",
            "placeholder": "​",
            "style": "IPY_MODEL_3e01f1b7ba2c4184899ee202f97ee9eb",
            "value": " 50/50 [00:00&lt;00:00, 157.28 examples/s]"
          }
        },
        "e5ded47f9fd24c5aa9db8e65c6230c08": {
          "model_module": "@jupyter-widgets/base",
          "model_name": "LayoutModel",
          "model_module_version": "1.2.0",
          "state": {
            "_model_module": "@jupyter-widgets/base",
            "_model_module_version": "1.2.0",
            "_model_name": "LayoutModel",
            "_view_count": null,
            "_view_module": "@jupyter-widgets/base",
            "_view_module_version": "1.2.0",
            "_view_name": "LayoutView",
            "align_content": null,
            "align_items": null,
            "align_self": null,
            "border": null,
            "bottom": null,
            "display": null,
            "flex": null,
            "flex_flow": null,
            "grid_area": null,
            "grid_auto_columns": null,
            "grid_auto_flow": null,
            "grid_auto_rows": null,
            "grid_column": null,
            "grid_gap": null,
            "grid_row": null,
            "grid_template_areas": null,
            "grid_template_columns": null,
            "grid_template_rows": null,
            "height": null,
            "justify_content": null,
            "justify_items": null,
            "left": null,
            "margin": null,
            "max_height": null,
            "max_width": null,
            "min_height": null,
            "min_width": null,
            "object_fit": null,
            "object_position": null,
            "order": null,
            "overflow": null,
            "overflow_x": null,
            "overflow_y": null,
            "padding": null,
            "right": null,
            "top": null,
            "visibility": null,
            "width": null
          }
        },
        "a318d0b0abb84c689c14a4ca4c002b49": {
          "model_module": "@jupyter-widgets/base",
          "model_name": "LayoutModel",
          "model_module_version": "1.2.0",
          "state": {
            "_model_module": "@jupyter-widgets/base",
            "_model_module_version": "1.2.0",
            "_model_name": "LayoutModel",
            "_view_count": null,
            "_view_module": "@jupyter-widgets/base",
            "_view_module_version": "1.2.0",
            "_view_name": "LayoutView",
            "align_content": null,
            "align_items": null,
            "align_self": null,
            "border": null,
            "bottom": null,
            "display": null,
            "flex": null,
            "flex_flow": null,
            "grid_area": null,
            "grid_auto_columns": null,
            "grid_auto_flow": null,
            "grid_auto_rows": null,
            "grid_column": null,
            "grid_gap": null,
            "grid_row": null,
            "grid_template_areas": null,
            "grid_template_columns": null,
            "grid_template_rows": null,
            "height": null,
            "justify_content": null,
            "justify_items": null,
            "left": null,
            "margin": null,
            "max_height": null,
            "max_width": null,
            "min_height": null,
            "min_width": null,
            "object_fit": null,
            "object_position": null,
            "order": null,
            "overflow": null,
            "overflow_x": null,
            "overflow_y": null,
            "padding": null,
            "right": null,
            "top": null,
            "visibility": null,
            "width": null
          }
        },
        "d4323d747f19460984da0f2bc7f373d0": {
          "model_module": "@jupyter-widgets/controls",
          "model_name": "DescriptionStyleModel",
          "model_module_version": "1.5.0",
          "state": {
            "_model_module": "@jupyter-widgets/controls",
            "_model_module_version": "1.5.0",
            "_model_name": "DescriptionStyleModel",
            "_view_count": null,
            "_view_module": "@jupyter-widgets/base",
            "_view_module_version": "1.2.0",
            "_view_name": "StyleView",
            "description_width": ""
          }
        },
        "90c453c5ffa046c28a2f8fefd8afe8f6": {
          "model_module": "@jupyter-widgets/base",
          "model_name": "LayoutModel",
          "model_module_version": "1.2.0",
          "state": {
            "_model_module": "@jupyter-widgets/base",
            "_model_module_version": "1.2.0",
            "_model_name": "LayoutModel",
            "_view_count": null,
            "_view_module": "@jupyter-widgets/base",
            "_view_module_version": "1.2.0",
            "_view_name": "LayoutView",
            "align_content": null,
            "align_items": null,
            "align_self": null,
            "border": null,
            "bottom": null,
            "display": null,
            "flex": null,
            "flex_flow": null,
            "grid_area": null,
            "grid_auto_columns": null,
            "grid_auto_flow": null,
            "grid_auto_rows": null,
            "grid_column": null,
            "grid_gap": null,
            "grid_row": null,
            "grid_template_areas": null,
            "grid_template_columns": null,
            "grid_template_rows": null,
            "height": null,
            "justify_content": null,
            "justify_items": null,
            "left": null,
            "margin": null,
            "max_height": null,
            "max_width": null,
            "min_height": null,
            "min_width": null,
            "object_fit": null,
            "object_position": null,
            "order": null,
            "overflow": null,
            "overflow_x": null,
            "overflow_y": null,
            "padding": null,
            "right": null,
            "top": null,
            "visibility": null,
            "width": null
          }
        },
        "f6d8209401e844358615916bd31c4452": {
          "model_module": "@jupyter-widgets/controls",
          "model_name": "ProgressStyleModel",
          "model_module_version": "1.5.0",
          "state": {
            "_model_module": "@jupyter-widgets/controls",
            "_model_module_version": "1.5.0",
            "_model_name": "ProgressStyleModel",
            "_view_count": null,
            "_view_module": "@jupyter-widgets/base",
            "_view_module_version": "1.2.0",
            "_view_name": "StyleView",
            "bar_color": null,
            "description_width": ""
          }
        },
        "3277e030095e4a4cbb67731fed798271": {
          "model_module": "@jupyter-widgets/base",
          "model_name": "LayoutModel",
          "model_module_version": "1.2.0",
          "state": {
            "_model_module": "@jupyter-widgets/base",
            "_model_module_version": "1.2.0",
            "_model_name": "LayoutModel",
            "_view_count": null,
            "_view_module": "@jupyter-widgets/base",
            "_view_module_version": "1.2.0",
            "_view_name": "LayoutView",
            "align_content": null,
            "align_items": null,
            "align_self": null,
            "border": null,
            "bottom": null,
            "display": null,
            "flex": null,
            "flex_flow": null,
            "grid_area": null,
            "grid_auto_columns": null,
            "grid_auto_flow": null,
            "grid_auto_rows": null,
            "grid_column": null,
            "grid_gap": null,
            "grid_row": null,
            "grid_template_areas": null,
            "grid_template_columns": null,
            "grid_template_rows": null,
            "height": null,
            "justify_content": null,
            "justify_items": null,
            "left": null,
            "margin": null,
            "max_height": null,
            "max_width": null,
            "min_height": null,
            "min_width": null,
            "object_fit": null,
            "object_position": null,
            "order": null,
            "overflow": null,
            "overflow_x": null,
            "overflow_y": null,
            "padding": null,
            "right": null,
            "top": null,
            "visibility": null,
            "width": null
          }
        },
        "3e01f1b7ba2c4184899ee202f97ee9eb": {
          "model_module": "@jupyter-widgets/controls",
          "model_name": "DescriptionStyleModel",
          "model_module_version": "1.5.0",
          "state": {
            "_model_module": "@jupyter-widgets/controls",
            "_model_module_version": "1.5.0",
            "_model_name": "DescriptionStyleModel",
            "_view_count": null,
            "_view_module": "@jupyter-widgets/base",
            "_view_module_version": "1.2.0",
            "_view_name": "StyleView",
            "description_width": ""
          }
        }
      }
    }
  },
  "cells": [
    {
      "cell_type": "code",
      "execution_count": 1,
      "metadata": {
        "id": "I6KpCkqioWni"
      },
      "outputs": [],
      "source": [
        "# requirements.txt\n",
        "!pip install transformers datasets pandas scikit-learn nltk gradio kagglehub evaluate rouge_score --quiet"
      ]
    },
    {
      "cell_type": "code",
      "source": [
        "!mkdir -p ~/.kaggle\n",
        "!cp kaggle.json ~/.kaggle/\n",
        "!chmod 600 ~/.kaggle/kaggle.json"
      ],
      "metadata": {
        "id": "DE5__lgC8FlQ"
      },
      "execution_count": 2,
      "outputs": []
    },
    {
      "cell_type": "code",
      "source": [
        "!pip install kaggle"
      ],
      "metadata": {
        "colab": {
          "base_uri": "https://localhost:8080/"
        },
        "id": "_WACnnciNLmr",
        "outputId": "db90aa4c-9796-4ccb-f2d8-1d196b4886f5"
      },
      "execution_count": 3,
      "outputs": [
        {
          "output_type": "stream",
          "name": "stdout",
          "text": [
            "Requirement already satisfied: kaggle in /usr/local/lib/python3.12/dist-packages (1.7.4.5)\n",
            "Requirement already satisfied: bleach in /usr/local/lib/python3.12/dist-packages (from kaggle) (6.2.0)\n",
            "Requirement already satisfied: certifi>=14.05.14 in /usr/local/lib/python3.12/dist-packages (from kaggle) (2025.10.5)\n",
            "Requirement already satisfied: charset-normalizer in /usr/local/lib/python3.12/dist-packages (from kaggle) (3.4.4)\n",
            "Requirement already satisfied: idna in /usr/local/lib/python3.12/dist-packages (from kaggle) (3.11)\n",
            "Requirement already satisfied: protobuf in /usr/local/lib/python3.12/dist-packages (from kaggle) (5.29.5)\n",
            "Requirement already satisfied: python-dateutil>=2.5.3 in /usr/local/lib/python3.12/dist-packages (from kaggle) (2.9.0.post0)\n",
            "Requirement already satisfied: python-slugify in /usr/local/lib/python3.12/dist-packages (from kaggle) (8.0.4)\n",
            "Requirement already satisfied: requests in /usr/local/lib/python3.12/dist-packages (from kaggle) (2.32.4)\n",
            "Requirement already satisfied: setuptools>=21.0.0 in /usr/local/lib/python3.12/dist-packages (from kaggle) (75.2.0)\n",
            "Requirement already satisfied: six>=1.10 in /usr/local/lib/python3.12/dist-packages (from kaggle) (1.17.0)\n",
            "Requirement already satisfied: text-unidecode in /usr/local/lib/python3.12/dist-packages (from kaggle) (1.3)\n",
            "Requirement already satisfied: tqdm in /usr/local/lib/python3.12/dist-packages (from kaggle) (4.67.1)\n",
            "Requirement already satisfied: urllib3>=1.15.1 in /usr/local/lib/python3.12/dist-packages (from kaggle) (2.5.0)\n",
            "Requirement already satisfied: webencodings in /usr/local/lib/python3.12/dist-packages (from kaggle) (0.5.1)\n"
          ]
        }
      ]
    },
    {
      "cell_type": "code",
      "source": [
        "!kaggle datasets download -d gowrishankarp/newspaper-text-summarization-cnn-dailymail\n"
      ],
      "metadata": {
        "colab": {
          "base_uri": "https://localhost:8080/"
        },
        "id": "m6oEuq7KsEuN",
        "outputId": "1e391fdd-f1e1-458a-b092-e1aa00f7de7d"
      },
      "execution_count": 4,
      "outputs": [
        {
          "output_type": "stream",
          "name": "stdout",
          "text": [
            "Dataset URL: https://www.kaggle.com/datasets/gowrishankarp/newspaper-text-summarization-cnn-dailymail\n",
            "License(s): CC0-1.0\n",
            "newspaper-text-summarization-cnn-dailymail.zip: Skipping, found more recently modified local copy (use --force to force download)\n"
          ]
        }
      ]
    },
    {
      "cell_type": "code",
      "source": [
        "!unzip newspaper-text-summarization-cnn-dailymail.zip -d cnn_dailymail_dataset\n"
      ],
      "metadata": {
        "colab": {
          "base_uri": "https://localhost:8080/"
        },
        "id": "ueCS-VPysw7s",
        "outputId": "983016c3-11d9-4a49-e789-7c66a083fba2"
      },
      "execution_count": 5,
      "outputs": [
        {
          "output_type": "stream",
          "name": "stdout",
          "text": [
            "Archive:  newspaper-text-summarization-cnn-dailymail.zip\n",
            "replace cnn_dailymail_dataset/cnn_dailymail/test.csv? [y]es, [n]o, [A]ll, [N]one, [r]ename: no\n",
            "replace cnn_dailymail_dataset/cnn_dailymail/train.csv? [y]es, [n]o, [A]ll, [N]one, [r]ename: no\n",
            "replace cnn_dailymail_dataset/cnn_dailymail/validation.csv? [y]es, [n]o, [A]ll, [N]one, [r]ename: no\n"
          ]
        }
      ]
    },
    {
      "cell_type": "code",
      "source": [
        "# Import only essential libraries\n",
        "import pandas as pd\n",
        "from transformers import T5Tokenizer, T5ForConditionalGeneration, TrainingArguments, Trainer\n",
        "from datasets import Dataset\n",
        "import evaluate\n",
        "import gradio as gr\n",
        "import kagglehub"
      ],
      "metadata": {
        "id": "Hmr0TpHusVTS"
      },
      "execution_count": 6,
      "outputs": []
    },
    {
      "cell_type": "code",
      "source": [
        "def load_quick_data():\n",
        "    \"\"\"Load only a small sample for quick training\"\"\"\n",
        "    print(\"Loading small dataset sample...\")\n",
        "\n",
        "    # Load just 500 samples from train.csv\n",
        "    train_path = \"cnn_dailymail_dataset/cnn_dailymail/train.csv\"\n",
        "    df = pd.read_csv(train_path, nrows=200)\n",
        "\n",
        "    # Show dataset structure\n",
        "    print(f\"Dataset columns: {df.columns.tolist()}\")\n",
        "    print(f\"Sample size: {len(df)}\")\n",
        "    print(\"\\nFirst sample:\")\n",
        "    print(f\"Article: {df.iloc[0]['article'][:100]}...\")\n",
        "    print(f\"Highlights: {df.iloc[0]['highlights']}\")\n",
        "\n",
        "    # Use 400 for training, 100 for testing\n",
        "    train_df = df.head(150)\n",
        "    test_df = df.tail(50)\n",
        "\n",
        "    return train_df, test_df\n",
        "\n",
        "train_df, test_df = load_quick_data()"
      ],
      "metadata": {
        "colab": {
          "base_uri": "https://localhost:8080/"
        },
        "id": "g-U8BpHgmGRV",
        "outputId": "96d0e4aa-e9c1-430a-c0e0-180a859bd38e"
      },
      "execution_count": 7,
      "outputs": [
        {
          "output_type": "stream",
          "name": "stdout",
          "text": [
            "Loading small dataset sample...\n",
            "Dataset columns: ['id', 'article', 'highlights']\n",
            "Sample size: 200\n",
            "\n",
            "First sample:\n",
            "Article: By . Associated Press . PUBLISHED: . 14:11 EST, 25 October 2013 . | . UPDATED: . 15:36 EST, 25 Octob...\n",
            "Highlights: Bishop John Folda, of North Dakota, is taking time off after being diagnosed .\n",
            "He contracted the infection through contaminated food in Italy .\n",
            "Church members in Fargo, Grand Forks and Jamestown could have been exposed .\n"
          ]
        }
      ]
    },
    {
      "cell_type": "code",
      "source": [
        "# Use the smallest T5 model\n",
        "model_name = \"t5-small\"\n",
        "tokenizer = T5Tokenizer.from_pretrained(model_name)\n",
        "model = T5ForConditionalGeneration.from_pretrained(model_name)\n",
        "\n",
        "print(\"✅ Model loaded successfully!\")"
      ],
      "metadata": {
        "colab": {
          "base_uri": "https://localhost:8080/"
        },
        "id": "uYh8jS_sokPN",
        "outputId": "9296e88b-f73c-4cb0-9552-2a535c5d7d8b"
      },
      "execution_count": 8,
      "outputs": [
        {
          "output_type": "stream",
          "name": "stderr",
          "text": [
            "/usr/local/lib/python3.12/dist-packages/huggingface_hub/utils/_auth.py:94: UserWarning: \n",
            "The secret `HF_TOKEN` does not exist in your Colab secrets.\n",
            "To authenticate with the Hugging Face Hub, create a token in your settings tab (https://huggingface.co/settings/tokens), set it as secret in your Google Colab and restart your session.\n",
            "You will be able to reuse this secret in all of your notebooks.\n",
            "Please note that authentication is recommended but still optional to access public models or datasets.\n",
            "  warnings.warn(\n",
            "You are using the default legacy behaviour of the <class 'transformers.models.t5.tokenization_t5.T5Tokenizer'>. This is expected, and simply means that the `legacy` (previous) behavior will be used so nothing changes for you. If you want to use the new behaviour, set `legacy=False`. This should only be set if you understand what it means, and thoroughly read the reason why this was added as explained in https://github.com/huggingface/transformers/pull/24565\n"
          ]
        },
        {
          "output_type": "stream",
          "name": "stdout",
          "text": [
            "✅ Model loaded successfully!\n"
          ]
        }
      ]
    },
    {
      "cell_type": "code",
      "source": [
        "def quick_preprocess(examples):\n",
        "    \"\"\"Minimal preprocessing for CNN/DailyMail format\"\"\"\n",
        "    inputs = [\"summarize: \" + str(doc) for doc in examples['article']]\n",
        "    targets = [str(doc) for doc in examples['highlights']]\n",
        "\n",
        "    # Tokenize with minimal settings\n",
        "    model_inputs = tokenizer(inputs, max_length=512, truncation=True, padding=\"max_length\")\n",
        "    labels = tokenizer(targets, max_length=128, truncation=True, padding=\"max_length\")\n",
        "\n",
        "    model_inputs[\"labels\"] = labels[\"input_ids\"]\n",
        "    return model_inputs\n",
        "\n",
        "# Convert to datasets\n",
        "train_dataset = Dataset.from_pandas(train_df)\n",
        "test_dataset = Dataset.from_pandas(test_df)\n",
        "\n",
        "# Quick preprocessing\n",
        "tokenized_train = train_dataset.map(quick_preprocess, batched=True, batch_size=16)\n",
        "tokenized_test = test_dataset.map(quick_preprocess, batched=True, batch_size=16)\n",
        "\n",
        "print(\"✅ Preprocessing completed!\")"
      ],
      "metadata": {
        "colab": {
          "base_uri": "https://localhost:8080/",
          "height": 98,
          "referenced_widgets": [
            "f9aab7b3e5474bc3aced3ddd6c62b52f",
            "3e7260633f6745708501d9df8234c663",
            "bc803b6b36d94d0198312017a8b307a3",
            "a270063de15a4fad98fe1d87a13c4f49",
            "552939e1434f442f919c95507604ae1a",
            "067b830bc2ab4c98a21c57870f6e15da",
            "79c5ec90dcda4334b657f6a2baef4b0a",
            "52cb460bcc4e418fa607e6392e49cee1",
            "2961f651b2e1404b8cf6305ff4142f94",
            "dffa91aa48504316bf7b00def7739b35",
            "e4ca30c865654ad392e846f312c3a3ea",
            "3d702c58314944418e0530e9d31f51e9",
            "7b4a6b3fc04f40eba780cfd66b52c25d",
            "2ec2ba60c7804e4db59f06115591007d",
            "e6bedb6c37d246d093f35a9854903ea8",
            "e5ded47f9fd24c5aa9db8e65c6230c08",
            "a318d0b0abb84c689c14a4ca4c002b49",
            "d4323d747f19460984da0f2bc7f373d0",
            "90c453c5ffa046c28a2f8fefd8afe8f6",
            "f6d8209401e844358615916bd31c4452",
            "3277e030095e4a4cbb67731fed798271",
            "3e01f1b7ba2c4184899ee202f97ee9eb"
          ]
        },
        "id": "rdM7l5n2oruw",
        "outputId": "9b4d2374-ff1a-4a7b-8d65-6e4bd985cbf9"
      },
      "execution_count": 9,
      "outputs": [
        {
          "output_type": "display_data",
          "data": {
            "text/plain": [
              "Map:   0%|          | 0/150 [00:00<?, ? examples/s]"
            ],
            "application/vnd.jupyter.widget-view+json": {
              "version_major": 2,
              "version_minor": 0,
              "model_id": "f9aab7b3e5474bc3aced3ddd6c62b52f"
            }
          },
          "metadata": {}
        },
        {
          "output_type": "display_data",
          "data": {
            "text/plain": [
              "Map:   0%|          | 0/50 [00:00<?, ? examples/s]"
            ],
            "application/vnd.jupyter.widget-view+json": {
              "version_major": 2,
              "version_minor": 0,
              "model_id": "3d702c58314944418e0530e9d31f51e9"
            }
          },
          "metadata": {}
        },
        {
          "output_type": "stream",
          "name": "stdout",
          "text": [
            "✅ Preprocessing completed!\n"
          ]
        }
      ]
    },
    {
      "cell_type": "code",
      "source": [
        "\n",
        "# ULTRA-LIGHT TRAINING - NO METRICS DURING TRAINING\n",
        "training_args = TrainingArguments(\n",
        "    output_dir=\"./t5-tiny-cpu\",\n",
        "    overwrite_output_dir=True,\n",
        "\n",
        "    # Ultra-light settings\n",
        "    per_device_train_batch_size=1,  # Batch size 1 to save memory\n",
        "    per_device_eval_batch_size=1,\n",
        "    dataloader_pin_memory=False,\n",
        "\n",
        "    # Very quick training\n",
        "    num_train_epochs=3,  # Only 1 epoch\n",
        "    max_steps=30,  # Only 30 steps\n",
        "\n",
        "    # DISABLE evaluation during training to save memory\n",
        "    # evaluation_strategy=\"no\",  # No evaluation during training\n",
        "    save_strategy=\"no\",\n",
        "    logging_steps=5,\n",
        "\n",
        "    # Force CPU and minimal workers\n",
        "    no_cuda=True,\n",
        "    dataloader_num_workers=0,\n",
        "\n",
        "    # Disable all logging to save memory\n",
        "    report_to=\"none\",\n",
        ")\n",
        "\n",
        "# Simple trainer WITHOUT compute_metrics\n",
        "trainer = Trainer(\n",
        "    model=model,\n",
        "    args=training_args,\n",
        "    train_dataset=tokenized_train,\n",
        "    tokenizer=tokenizer,\n",
        "    # REMOVED eval_dataset and compute_metrics to save memory\n",
        ")\n",
        "\n",
        "print(\"🚀 Starting ultra-light training (1 epoch, 30 steps)...\")\n",
        "trainer.train()\n",
        "\n",
        "# Save the model\n",
        "trainer.save_model(\"./t5-tiny-final\")\n",
        "tokenizer.save_pretrained(\"./t5-tiny-final\")\n",
        "print(\"✅ Training completed! Model saved.\")"
      ],
      "metadata": {
        "colab": {
          "base_uri": "https://localhost:8080/",
          "height": 389
        },
        "id": "9Ddlpti3ox43",
        "outputId": "62ff142e-1c82-485a-b61b-fd3c836f8435"
      },
      "execution_count": 17,
      "outputs": [
        {
          "output_type": "stream",
          "name": "stderr",
          "text": [
            "/usr/local/lib/python3.12/dist-packages/transformers/training_args.py:1636: FutureWarning: using `no_cuda` is deprecated and will be removed in version 5.0 of 🤗 Transformers. Use `use_cpu` instead\n",
            "  warnings.warn(\n",
            "/tmp/ipython-input-1637992706.py:29: FutureWarning: `tokenizer` is deprecated and will be removed in version 5.0.0 for `Trainer.__init__`. Use `processing_class` instead.\n",
            "  trainer = Trainer(\n"
          ]
        },
        {
          "output_type": "stream",
          "name": "stdout",
          "text": [
            "🚀 Starting ultra-light training (1 epoch, 30 steps)...\n"
          ]
        },
        {
          "output_type": "display_data",
          "data": {
            "text/plain": [
              "<IPython.core.display.HTML object>"
            ],
            "text/html": [
              "\n",
              "    <div>\n",
              "      \n",
              "      <progress value='30' max='30' style='width:300px; height:20px; vertical-align: middle;'></progress>\n",
              "      [30/30 01:44, Epoch 0/1]\n",
              "    </div>\n",
              "    <table border=\"1\" class=\"dataframe\">\n",
              "  <thead>\n",
              " <tr style=\"text-align: left;\">\n",
              "      <th>Step</th>\n",
              "      <th>Training Loss</th>\n",
              "    </tr>\n",
              "  </thead>\n",
              "  <tbody>\n",
              "    <tr>\n",
              "      <td>5</td>\n",
              "      <td>2.310600</td>\n",
              "    </tr>\n",
              "    <tr>\n",
              "      <td>10</td>\n",
              "      <td>1.978800</td>\n",
              "    </tr>\n",
              "    <tr>\n",
              "      <td>15</td>\n",
              "      <td>1.969200</td>\n",
              "    </tr>\n",
              "    <tr>\n",
              "      <td>20</td>\n",
              "      <td>1.424000</td>\n",
              "    </tr>\n",
              "    <tr>\n",
              "      <td>25</td>\n",
              "      <td>2.250700</td>\n",
              "    </tr>\n",
              "    <tr>\n",
              "      <td>30</td>\n",
              "      <td>1.891000</td>\n",
              "    </tr>\n",
              "  </tbody>\n",
              "</table><p>"
            ]
          },
          "metadata": {}
        },
        {
          "output_type": "stream",
          "name": "stdout",
          "text": [
            "✅ Training completed! Model saved.\n"
          ]
        }
      ]
    },
    {
      "cell_type": "code",
      "source": [
        "def quick_evaluation_after_training():\n",
        "    \"\"\"Evaluate after training to avoid memory issues\"\"\"\n",
        "    print(\"\\n🧪 Running quick evaluation...\")\n",
        "\n",
        "    # Test on just 3 samples\n",
        "    for i in range(min(3, len(test_df))):\n",
        "        original = test_df.iloc[i]['article']\n",
        "        reference = test_df.iloc[i]['highlights']\n",
        "\n",
        "        # Simple generation without metrics\n",
        "        input_text = \"summarize: \" + str(original)[:200]\n",
        "        inputs = tokenizer.encode(input_text, return_tensors=\"pt\", max_length=128, truncation=True)\n",
        "\n",
        "        summary_ids = model.generate(\n",
        "            inputs,\n",
        "            max_length=50,\n",
        "            num_beams=1,  # Use greedy search to save memory\n",
        "            early_stopping=True,\n",
        "        )\n",
        "\n",
        "        generated = tokenizer.decode(summary_ids[0], skip_special_tokens=True)\n",
        "\n",
        "        print(f\"\\n📄 Example {i+1}:\")\n",
        "        print(f\"Reference: {reference}\")\n",
        "        print(f\"Generated: {generated}\")\n",
        "        print(\"-\" * 40)\n",
        "\n",
        "quick_evaluation_after_training()"
      ],
      "metadata": {
        "colab": {
          "base_uri": "https://localhost:8080/"
        },
        "id": "OKVKgwf-yHW-",
        "outputId": "2af3b773-06d5-40e6-d14d-ed247c833e98"
      },
      "execution_count": 18,
      "outputs": [
        {
          "output_type": "stream",
          "name": "stdout",
          "text": [
            "\n",
            "🧪 Running quick evaluation...\n",
            "\n",
            "📄 Example 1:\n",
            "Reference: Jane Wiggett was found dead in her Cheltenham home on Friday .\n",
            "Police want to arrest her ex-husband in connection with her murder .\n",
            "Danny Spencer, 57, is believed to be looking to flee the country .\n",
            "Generated: Danny Spencer's ex-wife Jane was found dead in her home.\n",
            "----------------------------------------\n",
            "\n",
            "📄 Example 2:\n",
            "Reference: Peggy Drexler: Male models at Rick Owens' Paris runway show wore clothes that exposed their penises .\n",
            "She says as we become harder to shock, the culture keeps going lower and lower. The bottom is in sight .\n",
            "Generated: a show in Paris on tuesday. he sent male models down the runway wearing clothes with peepholes.\n",
            "----------------------------------------\n",
            "\n",
            "📄 Example 3:\n",
            "Reference: The Midwest has been hit hard in the recession, but some jobs are available .\n",
            "CNN affiliates: Offbeat industries like brewing and chocolate making are faring well .\n",
            "Nursing and health care are also seen as stable .\n",
            "WRTV: The Census Bureau, which recently hosted a job fair, is hiring in Indiana .\n",
            "Generated: Midwest has suffered an especially hard economic recession. With thousands of jobs lost in the manufacturing sector.\n",
            "----------------------------------------\n"
          ]
        }
      ]
    },
    {
      "cell_type": "code",
      "source": [],
      "metadata": {
        "id": "UAsVmXVE0M9D"
      },
      "execution_count": null,
      "outputs": []
    },
    {
      "cell_type": "code",
      "source": [
        "def simple_summarize(text):\n",
        "    \"\"\"Minimal memory summarization\"\"\"\n",
        "    input_text = \"summarize: \" + str(text)[:200]  # Very short input\n",
        "\n",
        "    inputs = tokenizer.encode(input_text, return_tensors=\"pt\", max_length=128, truncation=True)\n",
        "\n",
        "    summary_ids = model.generate(\n",
        "        inputs,\n",
        "        max_length=50,\n",
        "        num_beams=1,  # Greedy search\n",
        "        early_stopping=True,\n",
        "    )\n",
        "\n",
        "    return tokenizer.decode(summary_ids[0], skip_special_tokens=True)\n",
        "\n",
        "# Quick demo\n",
        "def create_simple_demo():\n",
        "    iface = gr.Interface(\n",
        "        simple_summarize,\n",
        "        gr.Textbox(lines=4, placeholder=\"Enter short text...\"),\n",
        "        gr.Textbox(lines=2, label=\"Summary\"),\n",
        "        title=\"Tiny Summarizer\",\n",
        "        examples=[[\"This is a short example text that will be summarized quickly to demonstrate the model capabilities.\"]]\n",
        "    )\n",
        "    return iface\n",
        "\n",
        "print(\"🎯 Launching simple demo...\")\n",
        "demo = create_simple_demo()\n",
        "demo.launch(share=True)"
      ],
      "metadata": {
        "colab": {
          "base_uri": "https://localhost:8080/",
          "height": 628
        },
        "id": "gf96GGV4yOmL",
        "outputId": "27c9d18c-d3fd-4b48-f6a7-9853e7092da7"
      },
      "execution_count": 19,
      "outputs": [
        {
          "output_type": "stream",
          "name": "stdout",
          "text": [
            "🎯 Launching simple demo...\n",
            "Colab notebook detected. To show errors in colab notebook, set debug=True in launch()\n",
            "* Running on public URL: https://46a0ee64eeadf6b57c.gradio.live\n",
            "\n",
            "This share link expires in 1 week. For free permanent hosting and GPU upgrades, run `gradio deploy` from the terminal in the working directory to deploy to Hugging Face Spaces (https://huggingface.co/spaces)\n"
          ]
        },
        {
          "output_type": "display_data",
          "data": {
            "text/plain": [
              "<IPython.core.display.HTML object>"
            ],
            "text/html": [
              "<div><iframe src=\"https://46a0ee64eeadf6b57c.gradio.live\" width=\"100%\" height=\"500\" allow=\"autoplay; camera; microphone; clipboard-read; clipboard-write;\" frameborder=\"0\" allowfullscreen></iframe></div>"
            ]
          },
          "metadata": {}
        },
        {
          "output_type": "execute_result",
          "data": {
            "text/plain": []
          },
          "metadata": {},
          "execution_count": 19
        }
      ]
    },
    {
      "cell_type": "code",
      "source": [
        "# Create a zip file of your trained model\n",
        "import shutil\n",
        "import os\n",
        "\n",
        "def zip_and_download_model():\n",
        "    \"\"\"Zip the model folder and provide download link\"\"\"\n",
        "    model_path = \"./t5-tiny-final\"\n",
        "\n",
        "    if os.path.exists(model_path):\n",
        "        # Create zip file\n",
        "        shutil.make_archive(\"t5_summarization_model\", 'zip', model_path)\n",
        "\n",
        "        print(\"✅ Model zipped successfully!\")\n",
        "        print(\"📁 File: t5_summarization_model.zip\")\n",
        "\n",
        "        # For Google Colab\n",
        "        try:\n",
        "            from google.colab import files\n",
        "            files.download(\"t5_summarization_model.zip\")\n",
        "            print(\"📥 Download started automatically in Colab\")\n",
        "        except:\n",
        "            print(\"📍 If you're in Colab, the download should start automatically\")\n",
        "            print(\"📍 If you're in local Jupyter, right-click and download the file\")\n",
        "    else:\n",
        "        print(\"❌ Model folder not found. Let me check what's available:\")\n",
        "        print(os.listdir(\".\"))\n",
        "\n",
        "# Run the download\n",
        "zip_and_download_model()"
      ],
      "metadata": {
        "colab": {
          "base_uri": "https://localhost:8080/",
          "height": 69
        },
        "id": "XqmEK23j0P45",
        "outputId": "c2694109-3c61-4f90-ad9c-444b04aa94fa"
      },
      "execution_count": 20,
      "outputs": [
        {
          "output_type": "stream",
          "name": "stdout",
          "text": [
            "✅ Model zipped successfully!\n",
            "📁 File: t5_summarization_model.zip\n"
          ]
        },
        {
          "output_type": "display_data",
          "data": {
            "text/plain": [
              "<IPython.core.display.Javascript object>"
            ],
            "application/javascript": [
              "\n",
              "    async function download(id, filename, size) {\n",
              "      if (!google.colab.kernel.accessAllowed) {\n",
              "        return;\n",
              "      }\n",
              "      const div = document.createElement('div');\n",
              "      const label = document.createElement('label');\n",
              "      label.textContent = `Downloading \"${filename}\": `;\n",
              "      div.appendChild(label);\n",
              "      const progress = document.createElement('progress');\n",
              "      progress.max = size;\n",
              "      div.appendChild(progress);\n",
              "      document.body.appendChild(div);\n",
              "\n",
              "      const buffers = [];\n",
              "      let downloaded = 0;\n",
              "\n",
              "      const channel = await google.colab.kernel.comms.open(id);\n",
              "      // Send a message to notify the kernel that we're ready.\n",
              "      channel.send({})\n",
              "\n",
              "      for await (const message of channel.messages) {\n",
              "        // Send a message to notify the kernel that we're ready.\n",
              "        channel.send({})\n",
              "        if (message.buffers) {\n",
              "          for (const buffer of message.buffers) {\n",
              "            buffers.push(buffer);\n",
              "            downloaded += buffer.byteLength;\n",
              "            progress.value = downloaded;\n",
              "          }\n",
              "        }\n",
              "      }\n",
              "      const blob = new Blob(buffers, {type: 'application/binary'});\n",
              "      const a = document.createElement('a');\n",
              "      a.href = window.URL.createObjectURL(blob);\n",
              "      a.download = filename;\n",
              "      div.appendChild(a);\n",
              "      a.click();\n",
              "      div.remove();\n",
              "    }\n",
              "  "
            ]
          },
          "metadata": {}
        },
        {
          "output_type": "display_data",
          "data": {
            "text/plain": [
              "<IPython.core.display.Javascript object>"
            ],
            "application/javascript": [
              "download(\"download_7151e440-338a-49dd-9f69-747312253020\", \"t5_summarization_model.zip\", 209438226)"
            ]
          },
          "metadata": {}
        },
        {
          "output_type": "stream",
          "name": "stdout",
          "text": [
            "📥 Download started automatically in Colab\n"
          ]
        }
      ]
    }
  ]
}